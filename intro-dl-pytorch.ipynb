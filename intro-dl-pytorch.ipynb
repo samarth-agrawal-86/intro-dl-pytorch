{
 "cells": [
  {
   "cell_type": "markdown",
   "metadata": {},
   "source": [
    "# Intro to PyTorch"
   ]
  },
  {
   "cell_type": "code",
   "execution_count": 2,
   "metadata": {},
   "outputs": [],
   "source": [
    "import torch\n",
    "import numpy as np\n",
    "import matplotlib.pyplot as plt\n",
    "%matplotlib inline"
   ]
  },
  {
   "cell_type": "markdown",
   "metadata": {},
   "source": [
    "### 1) Single Layer NN"
   ]
  },
  {
   "cell_type": "code",
   "execution_count": 5,
   "metadata": {},
   "outputs": [],
   "source": [
    "x = torch.randn((1,5))\n",
    "\n",
    "w = torch.randn_like(features)\n",
    "\n",
    "b = torch.randn(1,1)"
   ]
  },
  {
   "cell_type": "code",
   "execution_count": 4,
   "metadata": {},
   "outputs": [],
   "source": [
    "def activation(x):\n",
    "    sigm = 1 / (1+ torch.exp(-x))\n",
    "    return sigm"
   ]
  },
  {
   "cell_type": "code",
   "execution_count": 6,
   "metadata": {},
   "outputs": [
    {
     "ename": "RuntimeError",
     "evalue": "size mismatch, m1: [1 x 5], m2: [1 x 5] at c:\\new-builder_3\\win-wheel\\pytorch\\aten\\src\\th\\generic/THTensorMath.cpp:2070",
     "output_type": "error",
     "traceback": [
      "\u001b[1;31m---------------------------------------------------------------------------\u001b[0m",
      "\u001b[1;31mRuntimeError\u001b[0m                              Traceback (most recent call last)",
      "\u001b[1;32m<ipython-input-6-11c68710f273>\u001b[0m in \u001b[0;36m<module>\u001b[1;34m()\u001b[0m\n\u001b[1;32m----> 1\u001b[1;33m \u001b[0my\u001b[0m \u001b[1;33m=\u001b[0m \u001b[0mtorch\u001b[0m\u001b[1;33m.\u001b[0m\u001b[0mmm\u001b[0m\u001b[1;33m(\u001b[0m\u001b[0mx\u001b[0m\u001b[1;33m,\u001b[0m\u001b[0mw\u001b[0m\u001b[1;33m)\u001b[0m \u001b[1;33m+\u001b[0m \u001b[0mb\u001b[0m\u001b[1;33m\u001b[0m\u001b[1;33m\u001b[0m\u001b[0m\n\u001b[0m",
      "\u001b[1;31mRuntimeError\u001b[0m: size mismatch, m1: [1 x 5], m2: [1 x 5] at c:\\new-builder_3\\win-wheel\\pytorch\\aten\\src\\th\\generic/THTensorMath.cpp:2070"
     ]
    }
   ],
   "source": [
    "y = torch.mm(x,w) + b"
   ]
  },
  {
   "cell_type": "code",
   "execution_count": 11,
   "metadata": {},
   "outputs": [
    {
     "data": {
      "text/plain": [
       "tensor([[0.0857]])"
      ]
     },
     "execution_count": 11,
     "metadata": {},
     "output_type": "execute_result"
    }
   ],
   "source": [
    "y = torch.mm(x, w.view(5,1)) + b\n",
    "y = activation(y)\n",
    "y"
   ]
  },
  {
   "cell_type": "markdown",
   "metadata": {
    "heading_collapsed": true
   },
   "source": [
    "### 2) Multi Layer NN "
   ]
  },
  {
   "cell_type": "code",
   "execution_count": 12,
   "metadata": {
    "hidden": true
   },
   "outputs": [],
   "source": [
    "input_units = 3\n",
    "hidden_units = 2\n",
    "output_units = 1"
   ]
  },
  {
   "cell_type": "code",
   "execution_count": 15,
   "metadata": {
    "hidden": true
   },
   "outputs": [],
   "source": [
    "x = torch.randn((1,3))\n",
    "\n",
    "wt_i_to_h = torch.randn((3,2)) # from 3 to 2\n",
    "\n",
    "wt_h_to_o = torch.randn((2,1)) # from 2 to 1\n",
    "\n",
    "b1 = torch.randn((1,2)) # dimension = output dimension. in this layer output is hidden layer\n",
    "b2 = torch.randn((1,1)) # dimension = output dimension. in this layer output is final output"
   ]
  },
  {
   "cell_type": "markdown",
   "metadata": {
    "hidden": true
   },
   "source": [
    "Or, alternatively this can be written as"
   ]
  },
  {
   "cell_type": "code",
   "execution_count": 14,
   "metadata": {
    "hidden": true
   },
   "outputs": [],
   "source": [
    "x = torch.randn((1,3))\n",
    "\n",
    "wt_i_to_h = torch.randn((input_units, hidden_units)) # from 3 to 2\n",
    "\n",
    "wt_h_to_o = torch.randn((hidden_units, output_units)) # from 2 to 1\n",
    "\n",
    "b1 = torch.randn((1, hidden_units)) # dimension = output dimension. in this layer output is hidden layer\n",
    "b2 = torch.randn((1, output_units)) # dimension = output dimension. in this layer output is final output"
   ]
  },
  {
   "cell_type": "code",
   "execution_count": 18,
   "metadata": {
    "hidden": true
   },
   "outputs": [
    {
     "name": "stdout",
     "output_type": "stream",
     "text": [
      "tensor([[0.7395, 0.3515]])\n",
      "tensor([[0.2354]])\n"
     ]
    }
   ],
   "source": [
    "y = torch.mm(x, wt_i_to_h) + b1\n",
    "y = activation(y)\n",
    "print (y)\n",
    "y = torch.mm(y, wt_h_to_o) + b2\n",
    "y = activation(y)\n",
    "print (y)"
   ]
  },
  {
   "cell_type": "markdown",
   "metadata": {},
   "source": [
    "### 3) Numpy to Torch and back "
   ]
  },
  {
   "cell_type": "code",
   "execution_count": 22,
   "metadata": {},
   "outputs": [
    {
     "data": {
      "text/plain": [
       "array([[0.29548943, 0.20578004, 0.59541303, 0.56300916],\n",
       "       [0.21322573, 0.95975376, 0.78490481, 0.69209327],\n",
       "       [0.0797586 , 0.34904921, 0.85668013, 0.51683533]])"
      ]
     },
     "execution_count": 22,
     "metadata": {},
     "output_type": "execute_result"
    }
   ],
   "source": [
    "a = np.random.rand(3,4)\n",
    "a"
   ]
  },
  {
   "cell_type": "code",
   "execution_count": 23,
   "metadata": {},
   "outputs": [
    {
     "data": {
      "text/plain": [
       "tensor([[0.2955, 0.2058, 0.5954, 0.5630],\n",
       "        [0.2132, 0.9598, 0.7849, 0.6921],\n",
       "        [0.0798, 0.3490, 0.8567, 0.5168]], dtype=torch.float64)"
      ]
     },
     "execution_count": 23,
     "metadata": {},
     "output_type": "execute_result"
    }
   ],
   "source": [
    "b = torch.from_numpy(a)\n",
    "b"
   ]
  },
  {
   "cell_type": "markdown",
   "metadata": {},
   "source": [
    "Memory is shared between the Numpy array and Torch Tensor. If you chagne the value in one place, the other object will change as well"
   ]
  },
  {
   "cell_type": "markdown",
   "metadata": {},
   "source": [
    "### 4) Neural Network in pytorch using Matrix Multiplication"
   ]
  },
  {
   "cell_type": "code",
   "execution_count": 3,
   "metadata": {},
   "outputs": [],
   "source": [
    "import torch\n",
    "from torch.utils.data import DataLoader\n",
    "from torchvision import datasets, transforms\n",
    "import matplotlib.pyplot as plt\n",
    "%matplotlib inline"
   ]
  },
  {
   "cell_type": "code",
   "execution_count": 59,
   "metadata": {},
   "outputs": [],
   "source": [
    "transform = transforms.Compose([transforms.ToTensor(), \n",
    "                                transforms.Normalize((0.5,0.5,0.5), (0.5,0.5,0.5))])\n",
    "\n",
    "dataset = datasets.MNIST('MNIST_data', download=True, train=True, transform = transform)\n",
    "dataloader = DataLoader(dataset, batch_size=32, shuffle=True)"
   ]
  },
  {
   "cell_type": "code",
   "execution_count": 61,
   "metadata": {},
   "outputs": [
    {
     "name": "stdout",
     "output_type": "stream",
     "text": [
      "<class 'torch.Tensor'>\n",
      "torch.Size([32, 1, 28, 28])\n",
      "torch.Size([32])\n"
     ]
    }
   ],
   "source": [
    "# Let's grab the first batch from dataloader\n",
    "dataiter = iter(dataloader)\n",
    "images, labels = dataiter.next()\n",
    "print (type(images))\n",
    "print (images.shape)\n",
    "print (labels.shape)"
   ]
  },
  {
   "cell_type": "code",
   "execution_count": 65,
   "metadata": {},
   "outputs": [
    {
     "data": {
      "text/plain": [
       "32"
      ]
     },
     "execution_count": 65,
     "metadata": {},
     "output_type": "execute_result"
    }
   ],
   "source": [
    "images.shape[0]"
   ]
  },
  {
   "cell_type": "code",
   "execution_count": 64,
   "metadata": {},
   "outputs": [
    {
     "data": {
      "image/png": "[encoded data removed]",
      "text/plain": [
       "<Figure size 432x288 with 1 Axes>"
      ]
     },
     "metadata": {
      "needs_background": "light"
     },
     "output_type": "display_data"
    }
   ],
   "source": [
    "# Plot one image\n",
    "plt.imshow(images[1].numpy().squeeze(), cmap = 'gray')\n",
    "plt.title(labels[1].item())\n",
    "plt.show()"
   ]
  },
  {
   "cell_type": "code",
   "execution_count": 72,
   "metadata": {},
   "outputs": [],
   "source": [
    "# Build a Fully Connected Neural Network \n",
    "input_units = 784 \n",
    "hidden_units = 256\n",
    "output_units = 10\n",
    "\n",
    "# initialize the weights and bias\n",
    "wt_itoh = torch.randn((input_units, hidden_units))\n",
    "wt_htoo = torch.randn((hidden_units, output_units))\n",
    "b1 = torch.randn((1, hidden_units))\n",
    "b2 = torch.randn((1, output_units))\n",
    "\n",
    "# define the activation function\n",
    "def activation(x):\n",
    "    sig = 1 / (1+ torch.exp(-x))\n",
    "    return sig\n",
    "\n",
    "# loop through the dataloader\n",
    "for images, labels in dataloader:\n",
    "    batch_size = images.shape[0]\n",
    "    x = images.view(batch_size, -1)\n",
    "    h = torch.mm(x, wt_itoh) + b1\n",
    "    h = activation(h)\n",
    "    \n",
    "    out = torch.mm(h, wt_htoo) + b2\n",
    "\n",
    "    "
   ]
  },
  {
   "cell_type": "code",
   "execution_count": 73,
   "metadata": {},
   "outputs": [
    {
     "name": "stdout",
     "output_type": "stream",
     "text": [
      "tensor([ 14.7878,   2.3423,  -5.5257, -12.6507, -12.7191,   9.5128,  -8.7921,\n",
      "         -2.0138,  21.4676,  -5.7391])\n"
     ]
    }
   ],
   "source": [
    "print (out[1])"
   ]
  },
  {
   "cell_type": "markdown",
   "metadata": {},
   "source": [
    "### 5) Implementing Softmax using Matrix Multiplication"
   ]
  },
  {
   "cell_type": "code",
   "execution_count": null,
   "metadata": {},
   "outputs": [],
   "source": [
    "# From the previous neural network output we see that our values are all over the place. \n",
    "# but all we really want is the probability that a particular image is for which label"
   ]
  },
  {
   "cell_type": "code",
   "execution_count": 95,
   "metadata": {},
   "outputs": [],
   "source": [
    "def softmax(x):\n",
    "    exp = torch.exp(x)\n",
    "    print ('exp:', exp)\n",
    "    exp_sum = torch.sum(exp, dim =1).view(-1,1)\n",
    "    print ('exp sum: ', exp_sum)\n",
    "    print ('ratio: ', exp/exp_sum)\n",
    "    return exp/exp_sum"
   ]
  },
  {
   "cell_type": "code",
   "execution_count": 96,
   "metadata": {},
   "outputs": [
    {
     "name": "stdout",
     "output_type": "stream",
     "text": [
      "exp: tensor([[2.6440e+06, 1.0406e+01, 3.9833e-03, 3.2052e-06, 2.9933e-06, 1.3532e+04,\n",
      "         1.5193e-04, 1.3347e-01, 2.1051e+09, 3.2176e-03],\n",
      "        [2.6975e+07, 2.7493e-03, 1.8648e+02, 6.4369e-04, 6.8324e-02, 5.2354e-02,\n",
      "         2.8376e-01, 2.5758e-03, 8.4367e+06, 1.9572e-03]])\n",
      "exp sum:  tensor([[2107780992.],\n",
      "        [  35412328.]])\n",
      "ratio:  tensor([[1.2544e-03, 4.9367e-09, 1.8898e-12, 1.5206e-15, 1.4201e-15, 6.4199e-06,\n",
      "         7.2080e-14, 6.3325e-11, 9.9874e-01, 1.5265e-12],\n",
      "        [7.6175e-01, 7.7637e-11, 5.2659e-06, 1.8177e-11, 1.9294e-09, 1.4784e-09,\n",
      "         8.0131e-09, 7.2739e-11, 2.3824e-01, 5.5270e-11]])\n"
     ]
    }
   ],
   "source": [
    "soft_out = softmax(out[1:3])"
   ]
  },
  {
   "cell_type": "markdown",
   "metadata": {},
   "source": [
    "### 6) Building Neural Network in Pytorch using NN Module"
   ]
  },
  {
   "cell_type": "code",
   "execution_count": 100,
   "metadata": {},
   "outputs": [],
   "source": [
    "from torch import nn"
   ]
  },
  {
   "cell_type": "code",
   "execution_count": 106,
   "metadata": {},
   "outputs": [
    {
     "name": "stdout",
     "output_type": "stream",
     "text": [
      "Network(\n",
      "  (hidden): Linear(in_features=784, out_features=256, bias=True)\n",
      "  (output): Linear(in_features=256, out_features=10, bias=True)\n",
      "  (sigmoid): Sigmoid()\n",
      "  (softmax): Softmax()\n",
      ")\n"
     ]
    }
   ],
   "source": [
    "# Define the Network\n",
    "\n",
    "class Network (nn.Module):\n",
    "    def __init__ (self):\n",
    "        super().__init__()\n",
    "        self.hidden = nn.Linear(784, 256)\n",
    "        self.output = nn.Linear(256, 10)\n",
    "        \n",
    "        self.sigmoid = nn.Sigmoid()\n",
    "        self.softmax = nn.Softmax(dim =1)\n",
    "        \n",
    "    def forward (self, x):\n",
    "        x = self.hidden(x)\n",
    "        x = self.sigmoid(x)\n",
    "        x = self.output(x)\n",
    "        x = self.softmax(x)\n",
    "        \n",
    "        return x\n",
    "model = Network()\n",
    "print (model)"
   ]
  },
  {
   "cell_type": "markdown",
   "metadata": {},
   "source": [
    "Another way to define the model is to use **Functional**"
   ]
  },
  {
   "cell_type": "code",
   "execution_count": 103,
   "metadata": {},
   "outputs": [],
   "source": [
    "from torch import nn\n",
    "import torch.nn.functional as F"
   ]
  },
  {
   "cell_type": "code",
   "execution_count": 107,
   "metadata": {},
   "outputs": [
    {
     "name": "stdout",
     "output_type": "stream",
     "text": [
      "Network(\n",
      "  (hidden): Linear(in_features=784, out_features=256, bias=True)\n",
      "  (output): Linear(in_features=256, out_features=10, bias=True)\n",
      ")\n"
     ]
    }
   ],
   "source": [
    "class Network(nn.Module):\n",
    "    def __init__(self):\n",
    "        super().__init__()\n",
    "        self.hidden = nn.Linear(784, 256)\n",
    "        self.output = nn.Linear(256, 10)\n",
    "        \n",
    "    def forward(self, x):\n",
    "        x = self.hidden(x)\n",
    "        x = F.sigmoid(x)\n",
    "        x = self.output(x)\n",
    "        x = F.softmax(x, dim=1)\n",
    "        \n",
    "        return x\n",
    "model = Network()\n",
    "print (model)"
   ]
  },
  {
   "cell_type": "markdown",
   "metadata": {},
   "source": [
    "### 7) Activation Functions"
   ]
  },
  {
   "cell_type": "markdown",
   "metadata": {},
   "source": [
    "Sigmoid, Tanh, ReLU"
   ]
  },
  {
   "cell_type": "markdown",
   "metadata": {},
   "source": [
    "### 8) Build a Network Class"
   ]
  },
  {
   "cell_type": "markdown",
   "metadata": {},
   "source": [
    "Input - hidden(Relu) - hidden(Relu) - output(softmax"
   ]
  },
  {
   "cell_type": "code",
   "execution_count": 108,
   "metadata": {},
   "outputs": [],
   "source": [
    "from torch import nn\n",
    "import torch.nn.functional as F"
   ]
  },
  {
   "cell_type": "code",
   "execution_count": 109,
   "metadata": {},
   "outputs": [
    {
     "name": "stdout",
     "output_type": "stream",
     "text": [
      "Network(\n",
      "  (hidden1): Linear(in_features=784, out_features=128, bias=True)\n",
      "  (hidden2): Linear(in_features=128, out_features=64, bias=True)\n",
      "  (output): Linear(in_features=64, out_features=10, bias=True)\n",
      ")\n"
     ]
    }
   ],
   "source": [
    "class Network (nn.Module):\n",
    "    def __init__(self):\n",
    "        super().__init__()\n",
    "        self.hidden1 = nn.Linear(784, 128)\n",
    "        self.hidden2 = nn.Linear(128, 64)\n",
    "        self.output = nn.Linear(64, 10)\n",
    "        \n",
    "    def forward(self, x):\n",
    "        x = self.hidden1(x)\n",
    "        x = F.relu(x)\n",
    "        x = self.hidden2(x)\n",
    "        x = F.relu(x)\n",
    "        x = self.output(x)\n",
    "        x = F.softmax(x, dim=1)\n",
    "        \n",
    "        return x\n",
    "model = Network()\n",
    "print (model)"
   ]
  },
  {
   "cell_type": "markdown",
   "metadata": {},
   "source": [
    "### 9) Training Neural Network - What all we need"
   ]
  },
  {
   "cell_type": "markdown",
   "metadata": {},
   "source": [
    "Neural Networks with non-linear activations work like universal function approximators. \n",
    "\n",
    "\n",
    "It means that Neural Network given the input - can give you the output as you would get from that function. It does this by adjusting the weights of the network. And to adjust the weights, we need to tell the network how good or poor its classification is then it adjusts the weight to minimize the errors. \n",
    "\n",
    "\n",
    "For that we define the Loss Function, a measure of our prediction error"
   ]
  },
  {
   "cell_type": "markdown",
   "metadata": {},
   "source": [
    "### 10) Losses in Pytorch"
   ]
  },
  {
   "cell_type": "markdown",
   "metadata": {},
   "source": [
    "With Actual scores - CrossEntropyLoss()\n",
    "\n",
    "with LogSoftMax() - NLLLoss()\n",
    "\n",
    "With Softmax() - \n",
    "\n",
    "\n",
    "For computational reasons, it is better to use actual scores from the model (ie before the softmax()) and then use Crossentropyloss() as loss function\n",
    "\n",
    "\n",
    "Its better to avoid doing calculations with probabilities, typically we use log-probabilities"
   ]
  },
  {
   "cell_type": "markdown",
   "metadata": {},
   "source": [
    "### 11) Network with Actual Score and CrossEntropyLoss()"
   ]
  },
  {
   "cell_type": "code",
   "execution_count": 3,
   "metadata": {},
   "outputs": [],
   "source": [
    "import torch\n",
    "from torch import nn\n",
    "import torch.nn.functional as F\n",
    "from torch.utils.data import DataLoader\n",
    "from torchvision import datasets, transforms"
   ]
  },
  {
   "cell_type": "code",
   "execution_count": 4,
   "metadata": {},
   "outputs": [],
   "source": [
    "# Load Data\n",
    "transform = transforms.Compose([transforms.ToTensor(), transforms.Normalize((0.5, 0.5), (0.5, 0.5))])\n",
    "\n",
    "dataset = datasets.MNIST('MNIST_data', download=True, train=True, transform=transform)\n",
    "dataloader = DataLoader(dataset, shuffle=True, batch_size=32)"
   ]
  },
  {
   "cell_type": "code",
   "execution_count": 5,
   "metadata": {},
   "outputs": [
    {
     "name": "stdout",
     "output_type": "stream",
     "text": [
      "Sequential(\n",
      "  (0): Linear(in_features=784, out_features=128, bias=True)\n",
      "  (1): ReLU()\n",
      "  (2): Linear(in_features=128, out_features=64, bias=True)\n",
      "  (3): ReLU()\n",
      "  (4): Linear(in_features=64, out_features=10, bias=True)\n",
      ")\n"
     ]
    }
   ],
   "source": [
    "# Build the network\n",
    "\n",
    "model = nn.Sequential(nn.Linear(784, 128),\n",
    "                     nn.ReLU(),\n",
    "                     nn.Linear(128, 64),\n",
    "                     nn.ReLU(),\n",
    "                     nn.Linear(64,10))\n",
    "\n",
    "print (model)"
   ]
  },
  {
   "cell_type": "code",
   "execution_count": 15,
   "metadata": {},
   "outputs": [],
   "source": [
    "# Loss function\n",
    "loss_fn = nn.CrossEntropyLoss()"
   ]
  },
  {
   "cell_type": "code",
   "execution_count": 7,
   "metadata": {},
   "outputs": [],
   "source": [
    "images, labels = next(iter(dataloader))"
   ]
  },
  {
   "cell_type": "code",
   "execution_count": 8,
   "metadata": {},
   "outputs": [
    {
     "data": {
      "text/plain": [
       "tensor([[[[-1.0000, -1.0000, -1.0000,  ..., -1.0000, -1.0000, -1.0000],\n",
       "          [-1.0000, -1.0000, -1.0000,  ..., -1.0000, -1.0000, -1.0000],\n",
       "          [-1.0000, -1.0000, -1.0000,  ..., -1.0000, -1.0000, -1.0000],\n",
       "          ...,\n",
       "          [-1.0000, -1.0000, -1.0000,  ..., -1.0000, -1.0000, -1.0000],\n",
       "          [-1.0000, -1.0000, -1.0000,  ..., -1.0000, -1.0000, -1.0000],\n",
       "          [-1.0000, -1.0000, -1.0000,  ..., -1.0000, -1.0000, -1.0000]]],\n",
       "\n",
       "\n",
       "        [[[-1.0000, -1.0000, -1.0000,  ..., -1.0000, -1.0000, -1.0000],\n",
       "          [-1.0000, -1.0000, -1.0000,  ..., -1.0000, -1.0000, -1.0000],\n",
       "          [-1.0000, -1.0000, -1.0000,  ..., -1.0000, -1.0000, -1.0000],\n",
       "          ...,\n",
       "          [-1.0000, -1.0000, -1.0000,  ..., -1.0000, -1.0000, -1.0000],\n",
       "          [-1.0000, -1.0000, -1.0000,  ..., -1.0000, -1.0000, -1.0000],\n",
       "          [-1.0000, -1.0000, -1.0000,  ..., -1.0000, -1.0000, -1.0000]]],\n",
       "\n",
       "\n",
       "        [[[-1.0000, -1.0000, -1.0000,  ..., -1.0000, -1.0000, -1.0000],\n",
       "          [-1.0000, -1.0000, -1.0000,  ..., -1.0000, -1.0000, -1.0000],\n",
       "          [-1.0000, -1.0000, -1.0000,  ..., -1.0000, -1.0000, -1.0000],\n",
       "          ...,\n",
       "          [-1.0000, -1.0000, -1.0000,  ..., -1.0000, -1.0000, -1.0000],\n",
       "          [-1.0000, -1.0000, -1.0000,  ..., -1.0000, -1.0000, -1.0000],\n",
       "          [-1.0000, -1.0000, -1.0000,  ..., -1.0000, -1.0000, -1.0000]]],\n",
       "\n",
       "\n",
       "        ...,\n",
       "\n",
       "\n",
       "        [[[-1.0000, -1.0000, -1.0000,  ..., -1.0000, -1.0000, -1.0000],\n",
       "          [-1.0000, -1.0000, -1.0000,  ..., -1.0000, -1.0000, -1.0000],\n",
       "          [-1.0000, -1.0000, -1.0000,  ..., -1.0000, -1.0000, -1.0000],\n",
       "          ...,\n",
       "          [-1.0000, -1.0000, -1.0000,  ..., -1.0000, -1.0000, -1.0000],\n",
       "          [-1.0000, -1.0000, -1.0000,  ..., -1.0000, -1.0000, -1.0000],\n",
       "          [-1.0000, -1.0000, -1.0000,  ..., -1.0000, -1.0000, -1.0000]]],\n",
       "\n",
       "\n",
       "        [[[-1.0000, -1.0000, -1.0000,  ..., -1.0000, -1.0000, -1.0000],\n",
       "          [-1.0000, -1.0000, -1.0000,  ..., -1.0000, -1.0000, -1.0000],\n",
       "          [-1.0000, -1.0000, -1.0000,  ..., -1.0000, -1.0000, -1.0000],\n",
       "          ...,\n",
       "          [-1.0000, -1.0000, -1.0000,  ..., -1.0000, -1.0000, -1.0000],\n",
       "          [-1.0000, -1.0000, -1.0000,  ..., -1.0000, -1.0000, -1.0000],\n",
       "          [-1.0000, -1.0000, -1.0000,  ..., -1.0000, -1.0000, -1.0000]]],\n",
       "\n",
       "\n",
       "        [[[-1.0000, -1.0000, -1.0000,  ..., -1.0000, -1.0000, -1.0000],\n",
       "          [-1.0000, -1.0000, -1.0000,  ..., -1.0000, -1.0000, -1.0000],\n",
       "          [-1.0000, -1.0000, -1.0000,  ..., -1.0000, -1.0000, -1.0000],\n",
       "          ...,\n",
       "          [-1.0000, -1.0000, -1.0000,  ..., -1.0000, -1.0000, -1.0000],\n",
       "          [-1.0000, -1.0000, -1.0000,  ..., -1.0000, -1.0000, -1.0000],\n",
       "          [-1.0000, -1.0000, -1.0000,  ..., -1.0000, -1.0000, -1.0000]]]])"
      ]
     },
     "execution_count": 8,
     "metadata": {},
     "output_type": "execute_result"
    }
   ],
   "source": [
    "images"
   ]
  },
  {
   "cell_type": "code",
   "execution_count": 10,
   "metadata": {},
   "outputs": [],
   "source": [
    "# Flatten Images\n",
    "batch_size = images.shape[0]\n",
    "images = images.view(batch_size, -1)"
   ]
  },
  {
   "cell_type": "code",
   "execution_count": 13,
   "metadata": {},
   "outputs": [
    {
     "data": {
      "text/plain": [
       "tensor([[ 0.0102,  0.0931, -0.0154, -0.1406, -0.1265,  0.1085, -0.0415,  0.1916,\n",
       "          0.0235,  0.0751],\n",
       "        [ 0.0665,  0.1175,  0.0069, -0.1402, -0.1323,  0.0426, -0.0359,  0.1530,\n",
       "         -0.0052,  0.1147],\n",
       "        [-0.0116,  0.1028, -0.0958, -0.2038, -0.0334, -0.0073,  0.0224,  0.1800,\n",
       "          0.0182,  0.1046],\n",
       "        [-0.0804,  0.0571, -0.0277, -0.1344, -0.1469,  0.1068, -0.0654,  0.1735,\n",
       "          0.0226,  0.1350],\n",
       "        [ 0.0278,  0.0919, -0.0597, -0.1876, -0.0882, -0.0038, -0.0053,  0.1497,\n",
       "          0.0302,  0.1077],\n",
       "        [ 0.0185,  0.0344, -0.0106, -0.1635, -0.1386,  0.0712, -0.0829,  0.1499,\n",
       "          0.0842,  0.0971],\n",
       "        [-0.0213,  0.0703, -0.0621, -0.1201, -0.0745,  0.0891, -0.0712,  0.1488,\n",
       "          0.0440,  0.0870],\n",
       "        [ 0.0123,  0.0833, -0.0750, -0.1550, -0.0891,  0.0321, -0.0149,  0.1608,\n",
       "          0.0641,  0.0460],\n",
       "        [ 0.0783,  0.1019, -0.0786, -0.1809, -0.1185,  0.0760, -0.0162,  0.1919,\n",
       "          0.0854,  0.0508],\n",
       "        [-0.0681,  0.0994, -0.0443, -0.1346, -0.1076,  0.1198, -0.1032,  0.1311,\n",
       "          0.0883,  0.1102],\n",
       "        [-0.0286,  0.1076,  0.0349, -0.1591, -0.0829,  0.0753, -0.0464,  0.1869,\n",
       "          0.0383,  0.0548],\n",
       "        [-0.0307,  0.1310,  0.0464, -0.1400, -0.1602,  0.0085, -0.0478,  0.2105,\n",
       "          0.0170,  0.1143],\n",
       "        [ 0.0260,  0.0499, -0.1158, -0.1884, -0.1158,  0.0656, -0.0221,  0.1356,\n",
       "          0.0092,  0.1326],\n",
       "        [-0.0469,  0.0831, -0.0536, -0.1597, -0.0600,  0.0674, -0.0411,  0.1533,\n",
       "          0.0411,  0.0320],\n",
       "        [ 0.0004,  0.0715,  0.0641, -0.1597, -0.0805, -0.0090, -0.0546,  0.1509,\n",
       "          0.0398,  0.0922],\n",
       "        [ 0.0089,  0.1093,  0.0287, -0.1545, -0.1814,  0.0315,  0.0156,  0.1852,\n",
       "          0.0737,  0.0978],\n",
       "        [-0.0260,  0.0668, -0.0308, -0.1408, -0.0767,  0.0297, -0.0601,  0.1537,\n",
       "          0.0792,  0.1043],\n",
       "        [-0.0137,  0.0457, -0.0302, -0.1391, -0.0929,  0.0760, -0.0546,  0.1298,\n",
       "         -0.0005,  0.0888],\n",
       "        [ 0.0083,  0.0785, -0.0189, -0.1716, -0.1198,  0.0165, -0.0235,  0.1782,\n",
       "          0.0331,  0.0707],\n",
       "        [ 0.0062,  0.0767, -0.0854, -0.1682, -0.1073,  0.0673, -0.0657,  0.1694,\n",
       "          0.0439,  0.1148],\n",
       "        [ 0.0100,  0.1339, -0.0208, -0.0987, -0.1633,  0.1295, -0.0962,  0.1923,\n",
       "          0.0588,  0.0830],\n",
       "        [-0.0457,  0.1172,  0.0230, -0.1655, -0.0621,  0.0617, -0.0436,  0.0975,\n",
       "          0.0674,  0.1111],\n",
       "        [-0.0160,  0.0847, -0.0014, -0.1528, -0.0788,  0.0110, -0.0168,  0.1919,\n",
       "          0.0532,  0.0334],\n",
       "        [-0.0010,  0.1278, -0.0561, -0.1272, -0.1005,  0.0359,  0.0296,  0.1254,\n",
       "          0.0606,  0.1418],\n",
       "        [ 0.0710,  0.0964, -0.0374, -0.1458, -0.1429,  0.1529, -0.0404,  0.1722,\n",
       "          0.0757,  0.0306],\n",
       "        [ 0.0268,  0.0437, -0.0903, -0.1143, -0.0930,  0.0813, -0.0532,  0.0969,\n",
       "          0.0744,  0.0473],\n",
       "        [ 0.0368,  0.0812, -0.0997, -0.1504, -0.0973,  0.0533, -0.0220,  0.1581,\n",
       "          0.0726,  0.0377],\n",
       "        [ 0.0200,  0.0755, -0.0479, -0.1625, -0.0627,  0.0797, -0.0746,  0.1095,\n",
       "          0.0456,  0.0845],\n",
       "        [ 0.0154,  0.0755, -0.0763, -0.1442, -0.0845,  0.0476, -0.0532,  0.2482,\n",
       "          0.0427,  0.1192],\n",
       "        [-0.0377,  0.1608,  0.0052, -0.1864, -0.0983,  0.1006, -0.0198,  0.2465,\n",
       "          0.0386,  0.0406],\n",
       "        [ 0.0124,  0.0526, -0.0646, -0.1237, -0.1508,  0.0982, -0.0761,  0.1409,\n",
       "          0.0065,  0.1367],\n",
       "        [-0.0175,  0.0921, -0.0005, -0.1177, -0.1244,  0.1086, -0.0344,  0.1726,\n",
       "          0.0537,  0.0480]], grad_fn=<ThAddmmBackward>)"
      ]
     },
     "execution_count": 13,
     "metadata": {},
     "output_type": "execute_result"
    }
   ],
   "source": [
    "# Forward pass\n",
    "y_pred_score = model(images)\n",
    "y_pred_score"
   ]
  },
  {
   "cell_type": "code",
   "execution_count": 16,
   "metadata": {},
   "outputs": [],
   "source": [
    "# Calculate loss\n",
    "loss = loss_fn(y_pred_score, labels)"
   ]
  },
  {
   "cell_type": "code",
   "execution_count": 17,
   "metadata": {},
   "outputs": [
    {
     "name": "stdout",
     "output_type": "stream",
     "text": [
      "tensor(2.3267, grad_fn=<NllLossBackward>)\n"
     ]
    }
   ],
   "source": [
    "print (loss)"
   ]
  },
  {
   "cell_type": "markdown",
   "metadata": {},
   "source": [
    "### 12) Network with LogSoftMax() output and NLLLoss()"
   ]
  },
  {
   "cell_type": "code",
   "execution_count": 5,
   "metadata": {},
   "outputs": [],
   "source": [
    "import torch\n",
    "from torch import nn\n",
    "from torch.utils.data import DataLoader\n",
    "import torch.nn.functional as F\n",
    "from torchvision import datasets, transforms"
   ]
  },
  {
   "cell_type": "code",
   "execution_count": 9,
   "metadata": {},
   "outputs": [],
   "source": [
    "# Load Data\n",
    "transform = transforms.Compose([transforms.ToTensor(), transforms.Normalize((0.5, 0.5), (0.5, 0.5))])\n",
    "\n",
    "dataset = datasets.MNIST('MNIST_data', download=True, train=True, transform=transform)\n",
    "dataloader = DataLoader(dataset, shuffle=True, batch_size=32)"
   ]
  },
  {
   "cell_type": "code",
   "execution_count": 22,
   "metadata": {},
   "outputs": [
    {
     "name": "stdout",
     "output_type": "stream",
     "text": [
      "Sequential(\n",
      "  (0): Linear(in_features=784, out_features=128, bias=True)\n",
      "  (1): ReLU()\n",
      "  (2): Linear(in_features=128, out_features=64, bias=True)\n",
      "  (3): ReLU()\n",
      "  (4): Linear(in_features=64, out_features=10, bias=True)\n",
      "  (5): LogSoftmax()\n",
      ")\n",
      "tensor(2.3200, grad_fn=<NllLossBackward>)\n"
     ]
    }
   ],
   "source": [
    "# Define the Network\n",
    "model = nn.Sequential(nn.Linear(784, 128), \n",
    "                     nn.ReLU(),\n",
    "                     nn.Linear(128, 64),\n",
    "                     nn.ReLU(),\n",
    "                     nn.Linear(64,10),\n",
    "                     nn.LogSoftmax(dim=1))\n",
    "print (model)\n",
    "\n",
    "loss_fn = nn.NLLLoss()\n",
    "\n",
    "images, labels = next(iter(dataloader))\n",
    "batch_size = images.shape[0]\n",
    "images = images.view(batch_size, -1)\n",
    "y_pred_score = model(images)\n",
    "loss = loss_fn(y_pred_score, labels)\n",
    "print (loss)"
   ]
  },
  {
   "cell_type": "markdown",
   "metadata": {},
   "source": [
    "### 13) Backpropagation - Autograd Module of Pytorch"
   ]
  },
  {
   "cell_type": "markdown",
   "metadata": {},
   "source": [
    "We have calculated Loss, now we want to use to perform backpropagation"
   ]
  },
  {
   "cell_type": "markdown",
   "metadata": {},
   "source": [
    "PyTorch keep tracks of all operations on a tensor and calculate the gradients automatically. You just need to set requires_grad = True on a tensor\n",
    "\n",
    "You can do this by \n",
    "1. at the time of creation by using requires_grad keyword\n",
    "2. at any time with x.requires_grad_(True)\n",
    "\n",
    "\n",
    "You can turn off gradients for a block of code with torch.no_grad(True)"
   ]
  },
  {
   "cell_type": "code",
   "execution_count": 23,
   "metadata": {},
   "outputs": [
    {
     "name": "stdout",
     "output_type": "stream",
     "text": [
      "tensor([[-0.2475, -0.0048],\n",
      "        [ 0.5091, -0.6579]], requires_grad=True)\n"
     ]
    }
   ],
   "source": [
    "x = torch.randn(2,2, requires_grad=True)\n",
    "print (x)"
   ]
  },
  {
   "cell_type": "code",
   "execution_count": 24,
   "metadata": {},
   "outputs": [
    {
     "name": "stdout",
     "output_type": "stream",
     "text": [
      "tensor([[0.0613, 0.0000],\n",
      "        [0.2592, 0.4329]], grad_fn=<PowBackward0>)\n"
     ]
    }
   ],
   "source": [
    "y = x**2\n",
    "print (y)"
   ]
  },
  {
   "cell_type": "code",
   "execution_count": 25,
   "metadata": {},
   "outputs": [
    {
     "name": "stdout",
     "output_type": "stream",
     "text": [
      "<PowBackward0 object at 0x000000000928E4A8>\n"
     ]
    }
   ],
   "source": [
    "## grad_fn shows the function that generated that variable\n",
    "print (y.grad_fn)"
   ]
  },
  {
   "cell_type": "code",
   "execution_count": 27,
   "metadata": {},
   "outputs": [
    {
     "name": "stdout",
     "output_type": "stream",
     "text": [
      "tensor(0.1883, grad_fn=<MeanBackward1>)\n"
     ]
    }
   ],
   "source": [
    "z = y.mean()\n",
    "print (z)"
   ]
  },
  {
   "cell_type": "markdown",
   "metadata": {},
   "source": [
    "Autograd module keeps track of these operations and knows how to calculate the gradient for each one. \n",
    "\n",
    "This way it is able to calculate the gradients for a chain of operations, with respect to any one tensor. \n",
    "\n",
    "Let's check the gradient of z wrt to x and y."
   ]
  },
  {
   "cell_type": "code",
   "execution_count": 28,
   "metadata": {},
   "outputs": [
    {
     "name": "stdout",
     "output_type": "stream",
     "text": [
      "None\n",
      "None\n"
     ]
    }
   ],
   "source": [
    "print (x.grad)\n",
    "print (y.grad)"
   ]
  },
  {
   "cell_type": "markdown",
   "metadata": {},
   "source": [
    "They are empty currently"
   ]
  },
  {
   "cell_type": "markdown",
   "metadata": {},
   "source": [
    "**To get the gradients, you need to run .backward() method on a variable z**"
   ]
  },
  {
   "cell_type": "code",
   "execution_count": 29,
   "metadata": {},
   "outputs": [],
   "source": [
    "z.backward()"
   ]
  },
  {
   "cell_type": "code",
   "execution_count": 30,
   "metadata": {},
   "outputs": [
    {
     "name": "stdout",
     "output_type": "stream",
     "text": [
      "None\n",
      "tensor([[-0.1238, -0.0024],\n",
      "        [ 0.2546, -0.3290]])\n"
     ]
    }
   ],
   "source": [
    "print (y.grad)\n",
    "print (x.grad)"
   ]
  },
  {
   "cell_type": "code",
   "execution_count": 31,
   "metadata": {},
   "outputs": [
    {
     "data": {
      "text/plain": [
       "tensor([[-0.1238, -0.0024],\n",
       "        [ 0.2546, -0.3290]], grad_fn=<DivBackward0>)"
      ]
     },
     "execution_count": 31,
     "metadata": {},
     "output_type": "execute_result"
    }
   ],
   "source": [
    "x/2"
   ]
  },
  {
   "cell_type": "markdown",
   "metadata": {},
   "source": [
    "### 14) Backpropagation - In the Network"
   ]
  },
  {
   "cell_type": "code",
   "execution_count": 33,
   "metadata": {},
   "outputs": [
    {
     "name": "stdout",
     "output_type": "stream",
     "text": [
      "Sequential(\n",
      "  (0): Linear(in_features=784, out_features=128, bias=True)\n",
      "  (1): ReLU()\n",
      "  (2): Linear(in_features=128, out_features=64, bias=True)\n",
      "  (3): ReLU()\n",
      "  (4): Linear(in_features=64, out_features=10, bias=True)\n",
      "  (5): LogSoftmax()\n",
      ")\n",
      "tensor(2.3105, grad_fn=<NllLossBackward>)\n"
     ]
    }
   ],
   "source": [
    "# Define the Network\n",
    "model = nn.Sequential(nn.Linear(784, 128), \n",
    "                     nn.ReLU(),\n",
    "                     nn.Linear(128, 64),\n",
    "                     nn.ReLU(),\n",
    "                     nn.Linear(64,10),\n",
    "                     nn.LogSoftmax(dim=1))\n",
    "print (model)\n",
    "\n",
    "loss_fn = nn.NLLLoss()\n",
    "\n",
    "images, labels = next(iter(dataloader))\n",
    "batch_size = images.shape[0]\n",
    "images = images.view(batch_size, -1)\n",
    "y_pred_score = model(images)\n",
    "loss = loss_fn(y_pred_score, labels)\n",
    "print (loss)"
   ]
  },
  {
   "cell_type": "code",
   "execution_count": 34,
   "metadata": {},
   "outputs": [
    {
     "name": "stdout",
     "output_type": "stream",
     "text": [
      "Before Backward Pass: None\n",
      "After Backward Pass: tensor([[ 0.0009,  0.0009,  0.0009,  ...,  0.0009,  0.0009,  0.0009],\n",
      "        [ 0.0019,  0.0019,  0.0019,  ...,  0.0019,  0.0019,  0.0019],\n",
      "        [-0.0023, -0.0023, -0.0023,  ..., -0.0023, -0.0023, -0.0023],\n",
      "        ...,\n",
      "        [-0.0010, -0.0010, -0.0010,  ..., -0.0010, -0.0010, -0.0010],\n",
      "        [ 0.0077,  0.0077,  0.0077,  ...,  0.0077,  0.0077,  0.0077],\n",
      "        [ 0.0002,  0.0002,  0.0002,  ...,  0.0002,  0.0002,  0.0002]])\n"
     ]
    }
   ],
   "source": [
    "print ('Before Backward Pass:', model[0].weight.grad)\n",
    "\n",
    "loss.backward()\n",
    "\n",
    "print ('After Backward Pass:', model[0].weight.grad)"
   ]
  },
  {
   "cell_type": "markdown",
   "metadata": {},
   "source": [
    "### 15) Gradient Descent - Use gradients to update the weights"
   ]
  },
  {
   "cell_type": "code",
   "execution_count": 7,
   "metadata": {},
   "outputs": [],
   "source": [
    "from torch import optim"
   ]
  },
  {
   "cell_type": "markdown",
   "metadata": {},
   "source": [
    "optimizer = optim.SGD(model.parameters(), lr=0.01)"
   ]
  },
  {
   "cell_type": "markdown",
   "metadata": {},
   "source": [
    "The General Process:\n",
    "1. Make a forward pass\n",
    "2. Calculate Loss\n",
    "3. Perform a backward pass, and calculate the gradient\n",
    "4. Update weights"
   ]
  },
  {
   "cell_type": "code",
   "execution_count": 39,
   "metadata": {},
   "outputs": [
    {
     "name": "stdout",
     "output_type": "stream",
     "text": [
      "Sequential(\n",
      "  (0): Linear(in_features=784, out_features=128, bias=True)\n",
      "  (1): ReLU()\n",
      "  (2): Linear(in_features=128, out_features=64, bias=True)\n",
      "  (3): ReLU()\n",
      "  (4): Linear(in_features=64, out_features=10, bias=True)\n",
      "  (5): LogSoftmax()\n",
      ")\n",
      "tensor(2.3324, grad_fn=<NllLossBackward>)\n",
      "Initial Weights: Parameter containing:\n",
      "tensor([[-0.0237,  0.0052,  0.0354,  ...,  0.0111, -0.0123,  0.0209],\n",
      "        [-0.0053,  0.0286, -0.0148,  ...,  0.0028,  0.0038, -0.0026],\n",
      "        [-0.0322,  0.0104, -0.0107,  ..., -0.0067, -0.0144, -0.0080],\n",
      "        ...,\n",
      "        [ 0.0172,  0.0245,  0.0177,  ..., -0.0157, -0.0058, -0.0033],\n",
      "        [-0.0039,  0.0031,  0.0038,  ..., -0.0255, -0.0087, -0.0281],\n",
      "        [-0.0177,  0.0288, -0.0099,  ..., -0.0056,  0.0165, -0.0310]],\n",
      "       requires_grad=True)\n",
      "Gradient : tensor([[-0.0033, -0.0033, -0.0033,  ..., -0.0033, -0.0033, -0.0033],\n",
      "        [-0.0048, -0.0048, -0.0048,  ..., -0.0048, -0.0048, -0.0048],\n",
      "        [-0.0004, -0.0004, -0.0004,  ..., -0.0004, -0.0004, -0.0004],\n",
      "        ...,\n",
      "        [-0.0014, -0.0014, -0.0014,  ..., -0.0014, -0.0014, -0.0014],\n",
      "        [-0.0016, -0.0016, -0.0016,  ..., -0.0016, -0.0016, -0.0016],\n",
      "        [-0.0010, -0.0010, -0.0010,  ..., -0.0010, -0.0010, -0.0010]])\n",
      "Updated Weights: Parameter containing:\n",
      "tensor([[-0.0237,  0.0053,  0.0355,  ...,  0.0112, -0.0123,  0.0210],\n",
      "        [-0.0052,  0.0286, -0.0148,  ...,  0.0029,  0.0039, -0.0025],\n",
      "        [-0.0322,  0.0104, -0.0107,  ..., -0.0067, -0.0143, -0.0080],\n",
      "        ...,\n",
      "        [ 0.0172,  0.0245,  0.0177,  ..., -0.0156, -0.0057, -0.0033],\n",
      "        [-0.0038,  0.0031,  0.0038,  ..., -0.0255, -0.0087, -0.0280],\n",
      "        [-0.0177,  0.0288, -0.0099,  ..., -0.0056,  0.0166, -0.0310]],\n",
      "       requires_grad=True)\n"
     ]
    }
   ],
   "source": [
    "# Define the Network\n",
    "model = nn.Sequential(nn.Linear(784, 128), \n",
    "                     nn.ReLU(),\n",
    "                     nn.Linear(128, 64),\n",
    "                     nn.ReLU(),\n",
    "                     nn.Linear(64,10),\n",
    "                     nn.LogSoftmax(dim=1))\n",
    "print (model)\n",
    "\n",
    "loss_fn = nn.NLLLoss()\n",
    "optimizer = optim.SGD(model.parameters(), lr=0.01)\n",
    "\n",
    "optimizer.zero_grad()\n",
    "\n",
    "images, labels = next(iter(dataloader))\n",
    "batch_size = images.shape[0]\n",
    "images = images.view(batch_size, -1)\n",
    "\n",
    "y_pred_score = model(images)\n",
    "loss = loss_fn(y_pred_score, labels)\n",
    "print (loss)\n",
    "loss.backward()\n",
    "print ('Initial Weights:', model[0].weight)\n",
    "print ('Gradient :', model[0].weight.grad)\n",
    "optimizer.step()\n",
    "print ('Updated Weights:', model[0].weight)"
   ]
  },
  {
   "cell_type": "code",
   "execution_count": 41,
   "metadata": {},
   "outputs": [
    {
     "name": "stdout",
     "output_type": "stream",
     "text": [
      "Initial Weights: Parameter containing:\n",
      "tensor([[-0.0028, -0.0445,  0.0812,  ...,  0.0472, -0.0381,  0.0242],\n",
      "        [-0.0415,  0.0880,  0.0814,  ...,  0.0472,  0.0228,  0.0049],\n",
      "        [-0.0250,  0.0516, -0.0746,  ..., -0.0188, -0.0483,  0.0529],\n",
      "        ...,\n",
      "        [ 0.0819,  0.0199, -0.0302,  ..., -0.0611, -0.0465,  0.0181],\n",
      "        [-0.0148,  0.0631, -0.0152,  ..., -0.0185,  0.0107, -0.0530],\n",
      "        [ 0.0714, -0.0170, -0.0176,  ..., -0.0006, -0.0369, -0.0506]],\n",
      "       requires_grad=True)\n",
      "Gradient : tensor([[-0.0134,  0.0009,  0.0000,  ..., -0.0003, -0.0064, -0.0027],\n",
      "        [ 0.0050,  0.0065, -0.0003,  ...,  0.0034, -0.0023,  0.0144],\n",
      "        [ 0.0000,  0.0000,  0.0000,  ...,  0.0000,  0.0000,  0.0000],\n",
      "        ...,\n",
      "        [ 0.0000,  0.0000,  0.0000,  ...,  0.0000,  0.0000,  0.0000],\n",
      "        [ 0.0020,  0.0013,  0.0000,  ...,  0.0004,  0.0000,  0.0011],\n",
      "        [ 0.0004,  0.0008, -0.0000,  ...,  0.0050,  0.0041,  0.0055]])\n",
      "Updated Weights: Parameter containing:\n",
      "tensor([[-0.0026, -0.0445,  0.0812,  ...,  0.0472, -0.0381,  0.0242],\n",
      "        [-0.0415,  0.0880,  0.0814,  ...,  0.0472,  0.0229,  0.0048],\n",
      "        [-0.0250,  0.0516, -0.0746,  ..., -0.0188, -0.0483,  0.0529],\n",
      "        ...,\n",
      "        [ 0.0819,  0.0199, -0.0302,  ..., -0.0611, -0.0465,  0.0181],\n",
      "        [-0.0148,  0.0631, -0.0152,  ..., -0.0185,  0.0107, -0.0530],\n",
      "        [ 0.0714, -0.0170, -0.0176,  ..., -0.0007, -0.0369, -0.0507]],\n",
      "       requires_grad=True)\n"
     ]
    }
   ],
   "source": [
    "print ('Initial Weights:', model[2].weight)\n",
    "print ('Gradient :', model[2].weight.grad)\n",
    "optimizer.step()\n",
    "print ('Updated Weights:', model[2].weight)\n"
   ]
  },
  {
   "cell_type": "markdown",
   "metadata": {},
   "source": [
    "### 16) Full Network"
   ]
  },
  {
   "cell_type": "code",
   "execution_count": 10,
   "metadata": {},
   "outputs": [
    {
     "name": "stdout",
     "output_type": "stream",
     "text": [
      "Sequential(\n",
      "  (0): Linear(in_features=784, out_features=128, bias=True)\n",
      "  (1): ReLU()\n",
      "  (2): Linear(in_features=128, out_features=64, bias=True)\n",
      "  (3): ReLU()\n",
      "  (4): Linear(in_features=64, out_features=10, bias=True)\n",
      "  (5): LogSoftmax()\n",
      ")\n",
      "Epochs : 1/5 Training Loss : 1386.9603231474757\n",
      "Epochs : 2/5 Training Loss : 598.8843564614654\n",
      "Epochs : 3/5 Training Loss : 499.0535109117627\n",
      "Epochs : 4/5 Training Loss : 424.2230636924505\n",
      "Epochs : 5/5 Training Loss : 361.2712961509824\n",
      "=================\n",
      "Training Completed\n"
     ]
    }
   ],
   "source": [
    "# Define the Network\n",
    "model = nn.Sequential(nn.Linear(784, 128), \n",
    "                     nn.ReLU(),\n",
    "                     nn.Linear(128, 64),\n",
    "                     nn.ReLU(),\n",
    "                     nn.Linear(64,10),\n",
    "                     nn.LogSoftmax(dim=1))\n",
    "print (model)\n",
    "\n",
    "loss_fn = nn.NLLLoss()\n",
    "optimizer = optim.SGD(model.parameters(), lr=0.01)\n",
    "\n",
    "epochs = 5\n",
    "for e in range(epochs):\n",
    "    train_loss = 0.0\n",
    "    for images, labels in dataloader:\n",
    "        optimizer.zero_grad()\n",
    "        batch_size = images.shape[0]\n",
    "        images = images.view(batch_size, -1)\n",
    "        y_logps = model(images)\n",
    "        \n",
    "        loss = loss_fn(y_logps, labels)\n",
    "        \n",
    "        loss.backward()\n",
    "        optimizer.step()\n",
    "        train_loss = train_loss + loss.item()\n",
    "    print ('Epochs : {}/{}'.format(e+1, epochs), 'Training Loss :', train_loss)\n",
    "print ('=================')\n",
    "print ('Training Completed')"
   ]
  },
  {
   "cell_type": "code",
   "execution_count": 56,
   "metadata": {},
   "outputs": [
    {
     "name": "stdout",
     "output_type": "stream",
     "text": [
      "torch.Size([10])\n",
      "tensor([ -5.2827, -10.0863,  -4.4043,  -8.0254,  -8.9314,  -4.0854,  -0.0353,\n",
      "        -12.2836, -10.1045, -12.5737], grad_fn=<SelectBackward>)\n",
      "tensor(6)\n"
     ]
    }
   ],
   "source": [
    "print (y_logps[0].shape)\n",
    "print (y_logps[0])\n",
    "print (labels[0])"
   ]
  },
  {
   "cell_type": "code",
   "execution_count": 48,
   "metadata": {},
   "outputs": [
    {
     "data": {
      "text/plain": [
       "tensor([5.0788e-03, 4.1648e-05, 1.2224e-02, 3.2703e-04, 1.3217e-04, 1.6816e-02,\n",
       "        9.6533e-01, 4.6268e-06, 4.0896e-05, 3.4620e-06],\n",
       "       grad_fn=<ExpBackward>)"
      ]
     },
     "execution_count": 48,
     "metadata": {},
     "output_type": "execute_result"
    }
   ],
   "source": [
    "y_prob = torch.exp(y_logps[0])\n",
    "y_prob"
   ]
  },
  {
   "cell_type": "code",
   "execution_count": 55,
   "metadata": {},
   "outputs": [
    {
     "data": {
      "text/plain": [
       "tensor([[5.0788e-03, 4.1648e-05, 1.2224e-02, 3.2703e-04, 1.3217e-04, 1.6816e-02,\n",
       "         9.6533e-01, 4.6268e-06, 4.0896e-05, 3.4620e-06]],\n",
       "       grad_fn=<SoftmaxBackward>)"
      ]
     },
     "execution_count": 55,
     "metadata": {},
     "output_type": "execute_result"
    }
   ],
   "source": [
    "y_prob = F.softmax(y_logps[0].view(1,-1), dim=1)\n",
    "y_prob"
   ]
  },
  {
   "cell_type": "code",
   "execution_count": 72,
   "metadata": {},
   "outputs": [
    {
     "name": "stdout",
     "output_type": "stream",
     "text": [
      "torch.Size([1, 10])\n"
     ]
    },
    {
     "data": {
      "text/plain": [
       "array([[5.0788242e-03, 4.1647720e-05, 1.2224096e-02, 3.2703453e-04,\n",
       "        1.3217379e-04, 1.6816357e-02, 9.6533096e-01, 4.6268051e-06,\n",
       "        4.0895811e-05, 3.4619543e-06]], dtype=float32)"
      ]
     },
     "execution_count": 72,
     "metadata": {},
     "output_type": "execute_result"
    }
   ],
   "source": [
    "print (y_prob.data.shape)\n",
    "y_prob.data\n",
    "\n",
    "y_prob.data.numpy()"
   ]
  },
  {
   "cell_type": "code",
   "execution_count": 59,
   "metadata": {},
   "outputs": [
    {
     "name": "stdout",
     "output_type": "stream",
     "text": [
      "0.965330958366394 tensor([6])\n"
     ]
    }
   ],
   "source": [
    "y_pred_prob, y_pred_label = torch.max(y_prob, dim=1)\n",
    "print (y_pred_prob.item(), y_pred_label)"
   ]
  },
  {
   "cell_type": "code",
   "execution_count": 74,
   "metadata": {},
   "outputs": [
    {
     "data": {
      "text/plain": [
       "<BarContainer object of 10 artists>"
      ]
     },
     "execution_count": 74,
     "metadata": {},
     "output_type": "execute_result"
    },
    {
     "data": {
      "image/png": "[encoded data removed]",
      "text/plain": [
       "<Figure size 432x288 with 1 Axes>"
      ]
     },
     "metadata": {
      "needs_background": "light"
     },
     "output_type": "display_data"
    }
   ],
   "source": [
    "plt.barh(np.arange(10), y_prob.data.numpy().squeeze())"
   ]
  },
  {
   "cell_type": "markdown",
   "metadata": {},
   "source": [
    "### 17) Full Network - Fashion MNIST"
   ]
  },
  {
   "cell_type": "code",
   "execution_count": 75,
   "metadata": {},
   "outputs": [],
   "source": [
    "import torch\n",
    "from torch import nn\n",
    "import torch.nn.functional as F\n",
    "from torch.utils.data import DataLoader\n",
    "from torch import optim\n",
    "from torchvision import datasets, transforms"
   ]
  },
  {
   "cell_type": "code",
   "execution_count": 80,
   "metadata": {},
   "outputs": [],
   "source": [
    "# Load Data\n",
    "transformations = transforms.Compose([transforms.ToTensor(),\n",
    "                                     transforms.Normalize((0.5,0.5), (0.5, 0.5))])\n",
    "\n",
    "dataset = datasets.FashionMNIST('FashionMNIST_data', download=True, train=True, transform=transformations)\n",
    "dataloader = DataLoader(dataset, shuffle=True, batch_size=32)"
   ]
  },
  {
   "cell_type": "code",
   "execution_count": 83,
   "metadata": {},
   "outputs": [
    {
     "name": "stdout",
     "output_type": "stream",
     "text": [
      "Sequential(\n",
      "  (0): Linear(in_features=784, out_features=256, bias=True)\n",
      "  (1): ReLU()\n",
      "  (2): Linear(in_features=256, out_features=64, bias=True)\n",
      "  (3): ReLU()\n",
      "  (4): Linear(in_features=64, out_features=10, bias=True)\n",
      "  (5): LogSoftmax()\n",
      ")\n",
      "Epochs : 1/5 Training Loss : 1046.5547231659293\n",
      "Epochs : 2/5 Training Loss : 754.2266676723957\n",
      "Epochs : 3/5 Training Loss : 674.8049216866493\n",
      "Epochs : 4/5 Training Loss : 626.2559717670083\n",
      "Epochs : 5/5 Training Loss : 591.371476598084\n",
      "=================\n",
      "Training Completed\n"
     ]
    }
   ],
   "source": [
    "# Define the Network\n",
    "model = nn.Sequential(nn.Linear(784, 256),\n",
    "                     nn.ReLU(),\n",
    "                     nn.Linear(256, 64),\n",
    "                     nn.ReLU(),\n",
    "                     nn.Linear(64, 10),\n",
    "                     nn.LogSoftmax(dim=1))\n",
    "print (model)\n",
    "\n",
    "loss_fn = nn.NLLLoss()\n",
    "optimizer = optim.SGD(model.parameters(), lr=0.2 )\n",
    "\n",
    "epochs = 5\n",
    "for e in range(epochs):\n",
    "    train_loss = 0\n",
    "    for images, labels in dataloader:\n",
    "        optimizer.zero_grad()\n",
    "        batch_size =images.shape[0]\n",
    "        images = images.view(batch_size, -1)\n",
    "        y_logps = model(images)\n",
    "        loss = loss_fn(y_logps, labels)\n",
    "        loss.backward()\n",
    "        optimizer.step()\n",
    "        \n",
    "        train_loss = train_loss + loss.item()\n",
    "    print (f'Epochs : {e+1}/{epochs}', f'Training Loss : {train_loss}')\n",
    "print ('=================')\n",
    "print ('Training Completed')"
   ]
  },
  {
   "cell_type": "code",
   "execution_count": 88,
   "metadata": {},
   "outputs": [
    {
     "name": "stdout",
     "output_type": "stream",
     "text": [
      "torch.Size([10])\n",
      "tensor([7.7941e-10, 4.5787e-09, 3.3370e-10, 5.7764e-10, 5.7687e-10, 5.9412e-05,\n",
      "        3.0308e-09, 3.1848e-03, 9.8777e-10, 9.9676e-01],\n",
      "       grad_fn=<ExpBackward>)\n",
      "tensor([0.9968], grad_fn=<MaxBackward0>) tensor([9])\n"
     ]
    }
   ],
   "source": [
    "y_prob = torch.exp(y_logps[0])\n",
    "print (y_prob.shape)\n",
    "print (y_prob)\n",
    "\n",
    "y_pred_prob, y_pred_label = torch.max(y_prob.view(1,-1), dim=1)\n",
    "print (y_pred_prob, y_pred_label)"
   ]
  },
  {
   "cell_type": "code",
   "execution_count": 90,
   "metadata": {},
   "outputs": [
    {
     "name": "stdout",
     "output_type": "stream",
     "text": [
      "torch.Size([784])\n"
     ]
    }
   ],
   "source": [
    "print(images[0].shape)"
   ]
  },
  {
   "cell_type": "code",
   "execution_count": 94,
   "metadata": {},
   "outputs": [
    {
     "data": {
      "text/plain": [
       "array([[[-1.        , -1.        , -1.        , -1.        ,\n",
       "         -1.        , -1.        , -1.        , -1.        ,\n",
       "         -1.        , -1.        , -1.        , -1.        ,\n",
       "         -1.        , -1.        , -1.        , -1.        ,\n",
       "         -1.        , -1.        , -1.        , -1.        ,\n",
       "         -1.        , -1.        , -1.        , -1.        ,\n",
       "         -1.        , -1.        , -1.        , -1.        ],\n",
       "        [-1.        , -1.        , -1.        , -1.        ,\n",
       "         -1.        , -1.        , -1.        , -1.        ,\n",
       "         -1.        , -1.        , -1.        , -1.        ,\n",
       "         -1.        , -1.        , -1.        , -1.        ,\n",
       "         -1.        , -1.        , -1.        , -1.        ,\n",
       "         -1.        , -1.        , -1.        , -1.        ,\n",
       "         -1.        , -1.        , -1.        , -1.        ],\n",
       "        [-1.        , -1.        , -1.        , -1.        ,\n",
       "         -1.        , -1.        , -1.        , -1.        ,\n",
       "         -1.        , -1.        , -1.        , -1.        ,\n",
       "         -1.        , -1.        , -1.        , -1.        ,\n",
       "         -1.        , -1.        , -1.        , -1.        ,\n",
       "         -1.        , -1.        , -1.        , -1.        ,\n",
       "         -1.        , -1.        , -1.        , -1.        ],\n",
       "        [-1.        , -1.        , -1.        , -1.        ,\n",
       "         -1.        , -1.        , -1.        , -1.        ,\n",
       "         -1.        , -1.        , -1.        , -1.        ,\n",
       "         -1.        , -1.        , -1.        , -1.        ,\n",
       "         -1.        , -1.        , -1.        , -1.        ,\n",
       "         -1.        , -1.        , -1.        , -1.        ,\n",
       "         -1.        , -1.        , -1.        , -1.        ],\n",
       "        [-1.        , -1.        , -1.        , -1.        ,\n",
       "         -1.        , -1.        , -1.        , -1.        ,\n",
       "         -1.        , -1.        , -1.        , -1.        ,\n",
       "         -1.        , -1.        , -1.        , -1.        ,\n",
       "         -1.        , -1.        , -1.        , -1.        ,\n",
       "         -1.        , -1.        , -1.        , -1.        ,\n",
       "         -1.        , -1.        , -1.        , -1.        ],\n",
       "        [-1.        , -1.        , -1.        , -1.        ,\n",
       "         -1.        , -1.        , -1.        , -1.        ,\n",
       "         -1.        , -1.        , -1.        , -1.        ,\n",
       "         -1.        , -1.        , -1.        , -1.        ,\n",
       "         -1.        , -1.        , -1.        , -1.        ,\n",
       "         -1.        , -1.        , -1.        , -1.        ,\n",
       "         -1.        , -1.        , -1.        , -1.        ],\n",
       "        [-1.        , -1.        , -1.        , -1.        ,\n",
       "         -1.        , -1.        , -1.        , -1.        ,\n",
       "         -1.        , -1.        , -1.        , -1.        ,\n",
       "         -1.        , -1.        , -1.        , -1.        ,\n",
       "         -1.        , -1.        , -1.        , -1.        ,\n",
       "         -1.        , -1.        , -1.        , -1.        ,\n",
       "         -1.        , -1.        , -1.        , -1.        ],\n",
       "        [-1.        , -1.        , -1.        , -1.        ,\n",
       "         -1.        , -1.        , -1.        , -1.        ,\n",
       "         -1.        , -1.        , -1.        , -1.        ,\n",
       "         -1.        , -1.        , -1.        , -1.        ,\n",
       "         -0.6627451 , -0.12941176, -0.8901961 , -1.        ,\n",
       "         -1.        , -1.        , -1.        , -1.        ,\n",
       "         -0.7882353 ,  0.26274514, -1.        , -1.        ],\n",
       "        [-1.        , -1.        , -1.        , -1.        ,\n",
       "         -1.        , -1.        , -1.        , -1.        ,\n",
       "         -1.        , -1.        , -1.        , -1.        ,\n",
       "         -1.        , -0.99215686, -1.        , -1.        ,\n",
       "          0.4666667 ,  0.70980394,  0.49803925, -0.34117645,\n",
       "         -0.77254903, -0.7647059 , -0.94509804, -0.52156866,\n",
       "          0.14509809,  0.2941177 , -0.12156862, -1.        ],\n",
       "        [-1.        , -1.        , -1.        , -1.        ,\n",
       "         -1.        , -1.        , -1.        , -1.        ,\n",
       "         -1.        , -1.        , -1.        , -1.        ,\n",
       "         -1.        , -1.        , -1.        ,  0.1686275 ,\n",
       "          0.70980394,  0.427451  ,  0.5137255 ,  0.5058824 ,\n",
       "          0.7254902 ,  0.7254902 ,  0.64705884,  0.49803925,\n",
       "          0.6392157 ,  0.5058824 , -0.01176471, -1.        ],\n",
       "        [-1.        , -1.        , -1.        , -1.        ,\n",
       "         -1.        , -1.        , -1.        , -1.        ,\n",
       "         -1.        , -1.        , -1.        , -1.        ,\n",
       "         -1.        , -1.        , -0.6       ,  0.69411767,\n",
       "          0.5294118 ,  0.5058824 ,  0.4666667 ,  0.22352946,\n",
       "          0.254902  ,  0.3176471 ,  0.19215691,  0.3803922 ,\n",
       "          0.5058824 ,  0.4901961 , -0.10588235, -1.        ],\n",
       "        [-1.        , -1.        , -1.        , -1.        ,\n",
       "         -1.        , -1.        , -1.        , -1.        ,\n",
       "         -1.        , -1.        , -1.        , -1.        ,\n",
       "         -1.        , -1.        ,  0.79607844,  0.58431375,\n",
       "          0.5137255 ,  0.5294118 ,  0.48235297,  0.27843142,\n",
       "          0.23921573,  0.3411765 ,  0.37254906,  0.2941177 ,\n",
       "          0.5529412 ,  0.5294118 ,  0.0196079 , -1.        ],\n",
       "        [-1.        , -1.        , -0.99215686, -0.99215686,\n",
       "         -1.        , -1.        , -1.        , -1.        ,\n",
       "         -1.        , -0.9843137 , -1.        , -1.        ,\n",
       "         -0.8666667 ,  0.85882354,  0.6156863 ,  0.5137255 ,\n",
       "          0.5294118 ,  0.49803925,  0.41960788,  0.3176471 ,\n",
       "          0.17647064,  0.30980396,  0.37254906,  0.22352946,\n",
       "          0.56078434,  0.5137255 ,  0.20784318, -1.        ],\n",
       "        [-1.        , -1.        , -0.99215686, -0.99215686,\n",
       "         -0.99215686, -1.        , -1.        , -0.99215686,\n",
       "         -0.99215686, -1.        , -1.        , -0.54509807,\n",
       "          0.9529412 ,  0.6313726 ,  0.4901961 ,  0.47450984,\n",
       "          0.5294118 ,  0.5137255 ,  0.3803922 ,  0.27058828,\n",
       "          0.20784318,  0.35686278,  0.39607847,  0.39607847,\n",
       "          0.5529412 ,  0.4431373 ,  0.4431373 , -0.96862745],\n",
       "        [-0.99215686, -0.9764706 , -0.94509804, -0.9843137 ,\n",
       "         -1.        , -1.        , -1.        , -1.        ,\n",
       "         -1.        , -1.        , -0.05882353,  0.6627451 ,\n",
       "          0.5529412 ,  0.48235297,  0.5372549 ,  0.5058824 ,\n",
       "          0.47450984,  0.38823533,  0.34901965,  0.28627455,\n",
       "          0.27058828,  0.38823533,  0.3176471 ,  0.4901961 ,\n",
       "          0.43529415,  0.082353  ,  0.62352943, -0.7647059 ],\n",
       "        [-1.        , -1.        , -1.        , -1.        ,\n",
       "         -1.        , -1.        , -1.        , -1.        ,\n",
       "         -0.8745098 ,  0.52156866,  0.69411767,  0.4901961 ,\n",
       "          0.5058824 ,  0.5529412 ,  0.5372549 ,  0.5686275 ,\n",
       "          0.5058824 ,  0.33333337,  0.2941177 ,  0.28627455,\n",
       "          0.32549024,  0.4039216 ,  0.2941177 ,  0.37254906,\n",
       "          0.26274514, -0.1607843 ,  0.6       , -0.6392157 ],\n",
       "        [-1.        , -1.        ,  0.00392163,  0.41176474,\n",
       "          0.43529415,  0.33333337,  0.48235297,  0.7254902 ,\n",
       "          0.6392157 ,  0.5921569 ,  0.4039216 ,  0.5058824 ,\n",
       "          0.52156866,  0.5294118 ,  0.4901961 ,  0.5372549 ,\n",
       "          0.5372549 ,  0.427451  ,  0.37254906,  0.35686278,\n",
       "          0.36470592,  0.254902  ,  0.27843142,  0.2941177 ,\n",
       "          0.05098045, -0.3098039 ,  0.6627451 , -0.41960782],\n",
       "        [-0.9843137 ,  0.4901961 ,  0.6156863 ,  0.54509807,\n",
       "          0.56078434,  0.5686275 ,  0.5921569 ,  0.54509807,\n",
       "          0.5058824 ,  0.5058824 ,  0.5686275 ,  0.5294118 ,\n",
       "          0.4901961 ,  0.5372549 ,  0.49803925,  0.49803925,\n",
       "          0.52156866,  0.56078434,  0.6313726 ,  0.6313726 ,\n",
       "          0.5921569 ,  0.43529415,  0.427451  ,  0.49803925,\n",
       "          0.2941177 , -0.11372548,  0.7647059 , -0.64705884],\n",
       "        [-0.21568626,  0.6       ,  0.35686278,  0.56078434,\n",
       "          0.5686275 ,  0.56078434,  0.5372549 ,  0.4431373 ,\n",
       "          0.4901961 ,  0.5058824 ,  0.49803925,  0.5137255 ,\n",
       "          0.5372549 ,  0.47450984,  0.5058824 ,  0.5294118 ,\n",
       "          0.5294118 ,  0.5294118 ,  0.47450984,  0.43529415,\n",
       "          0.49803925,  0.45098042,  0.49803925,  0.4431373 ,\n",
       "          0.39607847,  0.14509809,  0.5764706 , -0.23137254],\n",
       "        [ 0.4039216 ,  0.58431375,  0.45882356,  0.3803922 ,\n",
       "          0.4039216 ,  0.4431373 ,  0.5764706 ,  0.62352943,\n",
       "          0.64705884,  0.62352943,  0.60784316,  0.5764706 ,\n",
       "          0.58431375,  0.5058824 ,  0.45882356,  0.36470592,\n",
       "          0.41176474,  0.45882356,  0.654902  ,  0.5529412 ,\n",
       "          0.45098042,  0.41176474,  0.45882356,  0.4666667 ,\n",
       "          0.427451  ,  0.28627455,  0.39607847,  0.3411765 ],\n",
       "        [-0.92156863, -0.20784312,  0.427451  ,  0.73333335,\n",
       "          0.8117647 ,  0.6627451 ,  0.54509807,  0.45882356,\n",
       "          0.4039216 ,  0.37254906,  0.3803922 ,  0.37254906,\n",
       "          0.36470592,  0.4901961 ,  0.6156863 ,  0.78039217,\n",
       "          0.7176471 ,  0.45098042, -0.16862744,  0.56078434,\n",
       "          1.        ,  0.6862745 ,  0.78039217,  0.77254903,\n",
       "          0.654902  ,  0.27843142,  0.4901961 ,  0.5137255 ],\n",
       "        [-1.        , -1.        , -1.        , -1.        ,\n",
       "         -0.7490196 , -0.38039213,  0.09019613,  0.23921573,\n",
       "          0.34901965,  0.5372549 ,  0.5921569 ,  0.5686275 ,\n",
       "          0.5137255 ,  0.21568632, -0.19215685, -0.73333335,\n",
       "         -1.        , -1.        , -1.        , -1.        ,\n",
       "          0.27058828,  0.10588241,  0.20784318,  0.254902  ,\n",
       "          0.18431377, -0.03529412,  0.05098045, -0.4352941 ],\n",
       "        [-1.        , -1.        , -1.        , -1.        ,\n",
       "         -1.        , -1.        , -1.        , -1.        ,\n",
       "         -1.        , -1.        , -1.        , -1.        ,\n",
       "         -1.        , -1.        , -1.        , -1.        ,\n",
       "         -1.        , -1.        , -1.        , -1.        ,\n",
       "         -1.        , -1.        , -1.        , -1.        ,\n",
       "         -1.        , -1.        , -1.        , -1.        ],\n",
       "        [-1.        , -1.        , -1.        , -1.        ,\n",
       "         -1.        , -1.        , -1.        , -1.        ,\n",
       "         -1.        , -1.        , -1.        , -1.        ,\n",
       "         -1.        , -1.        , -1.        , -1.        ,\n",
       "         -1.        , -1.        , -1.        , -1.        ,\n",
       "         -1.        , -1.        , -1.        , -1.        ,\n",
       "         -1.        , -1.        , -1.        , -1.        ],\n",
       "        [-1.        , -1.        , -1.        , -1.        ,\n",
       "         -1.        , -1.        , -1.        , -1.        ,\n",
       "         -1.        , -1.        , -1.        , -1.        ,\n",
       "         -1.        , -1.        , -1.        , -1.        ,\n",
       "         -1.        , -1.        , -1.        , -1.        ,\n",
       "         -1.        , -1.        , -1.        , -1.        ,\n",
       "         -1.        , -1.        , -1.        , -1.        ],\n",
       "        [-1.        , -1.        , -1.        , -1.        ,\n",
       "         -1.        , -1.        , -1.        , -1.        ,\n",
       "         -1.        , -1.        , -1.        , -1.        ,\n",
       "         -1.        , -1.        , -1.        , -1.        ,\n",
       "         -1.        , -1.        , -1.        , -1.        ,\n",
       "         -1.        , -1.        , -1.        , -1.        ,\n",
       "         -1.        , -1.        , -1.        , -1.        ],\n",
       "        [-1.        , -1.        , -1.        , -1.        ,\n",
       "         -1.        , -1.        , -1.        , -1.        ,\n",
       "         -1.        , -1.        , -1.        , -1.        ,\n",
       "         -1.        , -1.        , -1.        , -1.        ,\n",
       "         -1.        , -1.        , -1.        , -1.        ,\n",
       "         -1.        , -1.        , -1.        , -1.        ,\n",
       "         -1.        , -1.        , -1.        , -1.        ],\n",
       "        [-1.        , -1.        , -1.        , -1.        ,\n",
       "         -1.        , -1.        , -1.        , -1.        ,\n",
       "         -1.        , -1.        , -1.        , -1.        ,\n",
       "         -1.        , -1.        , -1.        , -1.        ,\n",
       "         -1.        , -1.        , -1.        , -1.        ,\n",
       "         -1.        , -1.        , -1.        , -1.        ,\n",
       "         -1.        , -1.        , -1.        , -1.        ]]],\n",
       "      dtype=float32)"
      ]
     },
     "execution_count": 94,
     "metadata": {},
     "output_type": "execute_result"
    }
   ],
   "source": [
    "images[0].view(1,28,28).data.numpy()"
   ]
  },
  {
   "cell_type": "code",
   "execution_count": 98,
   "metadata": {},
   "outputs": [
    {
     "data": {
      "image/png": "[encoded data removed]",
      "text/plain": [
       "<Figure size 432x288 with 1 Axes>"
      ]
     },
     "metadata": {
      "needs_background": "light"
     },
     "output_type": "display_data"
    }
   ],
   "source": [
    "plt.imshow(images[0].view(28,28).data, cmap='gray')\n",
    "plt.show()"
   ]
  },
  {
   "cell_type": "code",
   "execution_count": 100,
   "metadata": {},
   "outputs": [
    {
     "data": {
      "image/png": "[encoded data removed]",
      "text/plain": [
       "<Figure size 432x288 with 1 Axes>"
      ]
     },
     "metadata": {
      "needs_background": "light"
     },
     "output_type": "display_data"
    }
   ],
   "source": [
    "plt.barh(np.arange(10), y_prob.data.numpy())\n",
    "plt.show()"
   ]
  },
  {
   "cell_type": "code",
   "execution_count": null,
   "metadata": {},
   "outputs": [],
   "source": []
  },
  {
   "cell_type": "markdown",
   "metadata": {},
   "source": [
    "### 18) Making Predictions and Measuring Accuracy"
   ]
  },
  {
   "cell_type": "code",
   "execution_count": 11,
   "metadata": {},
   "outputs": [],
   "source": [
    "# Load Data\n",
    "transformations = transforms.Compose([transforms.ToTensor(),\n",
    "                                     transforms.Normalize((0.5,0.5), (0.5, 0.5))])\n",
    "\n",
    "# Download the Test Data\n",
    "testset = datasets.FashionMNIST('FashionMNIST_data', download=True, train=False, transform=transformations)\n",
    "testloader = DataLoader(testset, shuffle=True, batch_size=32)"
   ]
  },
  {
   "cell_type": "code",
   "execution_count": 13,
   "metadata": {},
   "outputs": [
    {
     "name": "stdout",
     "output_type": "stream",
     "text": [
      "torch.Size([32, 10])\n"
     ]
    }
   ],
   "source": [
    "images, labels  = next(iter(testloader))\n",
    "batch_size =images.shape[0]\n",
    "images = images.view(batch_size, -1)\n",
    "test_pred = torch.exp(model(images))\n",
    "print (test_pred.shape)"
   ]
  },
  {
   "cell_type": "code",
   "execution_count": null,
   "metadata": {},
   "outputs": [],
   "source": [
    "test_pred_prob, test_prob_label = torch.max(test_pred, dim=1)\n",
    "print "
   ]
  },
  {
   "cell_type": "code",
   "execution_count": null,
   "metadata": {},
   "outputs": [],
   "source": []
  },
  {
   "cell_type": "code",
   "execution_count": null,
   "metadata": {},
   "outputs": [],
   "source": []
  },
  {
   "cell_type": "code",
   "execution_count": null,
   "metadata": {},
   "outputs": [],
   "source": []
  },
  {
   "cell_type": "markdown",
   "metadata": {},
   "source": [
    "### 19) Regularization - Dropout"
   ]
  }
 ],
 "metadata": {
  "kernelspec": {
   "display_name": "Python 3",
   "language": "python",
   "name": "python3"
  },
  "language_info": {
   "codemirror_mode": {
    "name": "ipython",
    "version": 3
   },
   "file_extension": ".py",
   "mimetype": "text/x-python",
   "name": "python",
   "nbconvert_exporter": "python",
   "pygments_lexer": "ipython3",
   "version": "3.6.7"
  }
 },
 "nbformat": 4,
 "nbformat_minor": 2
}
